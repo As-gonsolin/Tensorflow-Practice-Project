{
 "cells": [
  {
   "cell_type": "code",
   "execution_count": 1,
   "metadata": {},
   "outputs": [],
   "source": [
    "#Import relevant libraries\n",
    "import tensorflow as tf"
   ]
  },
  {
   "cell_type": "code",
   "execution_count": 2,
   "metadata": {},
   "outputs": [
    {
     "name": "stdout",
     "output_type": "stream",
     "text": [
      "2.0.0-alpha0\n"
     ]
    }
   ],
   "source": [
    "print (tf.__version__)"
   ]
  },
  {
   "cell_type": "code",
   "execution_count": 3,
   "metadata": {},
   "outputs": [
    {
     "name": "stdout",
     "output_type": "stream",
     "text": [
      "Collecting scikit-learn\n",
      "\u001b[?25l  Downloading https://files.pythonhosted.org/packages/aa/7d/6c71c35c201f6d5cec318c7ed7841317adbf291513742865ed8904ae4ea9/scikit_learn-0.21.2-cp37-cp37m-macosx_10_6_intel.macosx_10_9_intel.macosx_10_9_x86_64.macosx_10_10_intel.macosx_10_10_x86_64.whl (10.5MB)\n",
      "\u001b[K     |████████████████████████████████| 10.5MB 450kB/s eta 0:00:01\n",
      "\u001b[?25hRequirement already satisfied: numpy>=1.11.0 in ./anaconda3/envs/py3-TF2.0/lib/python3.7/site-packages (from scikit-learn) (1.16.4)\n",
      "Collecting scipy>=0.17.0 (from scikit-learn)\n",
      "\u001b[?25l  Downloading https://files.pythonhosted.org/packages/04/66/ec5f1283d6a290a9153881a896837487338c44639c1305cc59e1c7b69cc9/scipy-1.3.0-cp37-cp37m-macosx_10_6_intel.macosx_10_9_intel.macosx_10_9_x86_64.macosx_10_10_intel.macosx_10_10_x86_64.whl (27.7MB)\n",
      "\u001b[K     |████████████████████████████████| 27.7MB 215kB/s eta 0:00:01\n",
      "\u001b[?25hCollecting joblib>=0.11 (from scikit-learn)\n",
      "\u001b[?25l  Downloading https://files.pythonhosted.org/packages/cd/c1/50a758e8247561e58cb87305b1e90b171b8c767b15b12a1734001f41d356/joblib-0.13.2-py2.py3-none-any.whl (278kB)\n",
      "\u001b[K     |████████████████████████████████| 286kB 490kB/s eta 0:00:01\n",
      "\u001b[?25hInstalling collected packages: scipy, joblib, scikit-learn\n",
      "Successfully installed joblib-0.13.2 scikit-learn-0.21.2 scipy-1.3.0\n",
      "Note: you may need to restart the kernel to use updated packages.\n"
     ]
    }
   ],
   "source": [
    "pip install scikit-learn"
   ]
  },
  {
   "cell_type": "code",
   "execution_count": 4,
   "metadata": {},
   "outputs": [
    {
     "name": "stdout",
     "output_type": "stream",
     "text": [
      "Collecting package metadata: done\n",
      "Solving environment: done\n",
      "\n",
      "\n",
      "==> WARNING: A newer version of conda exists. <==\n",
      "  current version: 4.6.14\n",
      "  latest version: 4.7.5\n",
      "\n",
      "Please update conda by running\n",
      "\n",
      "    $ conda update -n base -c defaults conda\n",
      "\n",
      "\n",
      "\n",
      "## Package Plan ##\n",
      "\n",
      "  environment location: /Users/gonsolinx/anaconda3/envs/py3-TF2.0\n",
      "\n",
      "  added / updated specs:\n",
      "    - pandas\n",
      "\n",
      "\n",
      "The following NEW packages will be INSTALLED:\n",
      "\n",
      "  blas               pkgs/main/osx-64::blas-1.0-mkl\n",
      "  intel-openmp       pkgs/main/osx-64::intel-openmp-2019.4-233\n",
      "  libgfortran        pkgs/main/osx-64::libgfortran-3.0.1-h93005f0_2\n",
      "  mkl                pkgs/main/osx-64::mkl-2019.4-233\n",
      "  mkl_fft            pkgs/main/osx-64::mkl_fft-1.0.12-py37h5e564d8_0\n",
      "  mkl_random         pkgs/main/osx-64::mkl_random-1.0.2-py37h27c97d8_0\n",
      "  numpy              pkgs/main/osx-64::numpy-1.16.4-py37hacdab7b_0\n",
      "  numpy-base         pkgs/main/osx-64::numpy-base-1.16.4-py37h6575580_0\n",
      "  pandas             pkgs/main/osx-64::pandas-0.24.2-py37h0a44026_0\n",
      "  pytz               pkgs/main/noarch::pytz-2019.1-py_0\n",
      "\n",
      "\n",
      "Preparing transaction: done\n",
      "Verifying transaction: done\n",
      "Executing transaction: done\n",
      "\n",
      "Note: you may need to restart the kernel to use updated packages.\n"
     ]
    }
   ],
   "source": [
    "conda install pandas"
   ]
  },
  {
   "cell_type": "code",
   "execution_count": 9,
   "metadata": {},
   "outputs": [],
   "source": [
    "import numpy as np\n",
    "import matplotlib.pyplot as plt\n",
    "from mpl_toolkits.mplot3d import Axes3D"
   ]
  },
  {
   "cell_type": "code",
   "execution_count": 30,
   "metadata": {},
   "outputs": [
    {
     "name": "stdout",
     "output_type": "stream",
     "text": [
      "(1000, 2)\n"
     ]
    }
   ],
   "source": [
    "# Generating random input data to train on\n",
    "\n",
    "observations = 1000\n",
    "xs=np.random.uniform(low=-10,high=10,size=(observations,1))\n",
    "zs=np.random.uniform(-10,10,(observations,1))\n",
    "\n",
    "inputs = np.column_stack((xs,zs))\n",
    "\n",
    "print(inputs.shape)"
   ]
  },
  {
   "cell_type": "code",
   "execution_count": 31,
   "metadata": {},
   "outputs": [
    {
     "name": "stdout",
     "output_type": "stream",
     "text": [
      "(1000, 1)\n"
     ]
    }
   ],
   "source": [
    "noise = np.random.uniform(-1,1,(observations,1))\n",
    "\n",
    "targets = 2*xs - 3*zs + 5 + noise\n",
    "\n",
    "print(targets.shape)"
   ]
  },
  {
   "cell_type": "code",
   "execution_count": 32,
   "metadata": {},
   "outputs": [
    {
     "name": "stdout",
     "output_type": "stream",
     "text": [
      "[[-0.01549318]\n",
      " [ 0.01462133]]\n",
      "[-0.01716626]\n"
     ]
    }
   ],
   "source": [
    "#initialize variables\n",
    "\n",
    "init_range = 0.1\n",
    "\n",
    "weights = np.random.uniform(-init_range,init_range, size=(2,1))\n",
    "\n",
    "biases = np.random.uniform(-init_range,init_range,size=1)\n",
    "\n",
    "print(weights)\n",
    "print(biases)"
   ]
  },
  {
   "cell_type": "code",
   "execution_count": 37,
   "metadata": {},
   "outputs": [],
   "source": [
    "#set learning rate\n",
    "\n",
    "learning_rate = 0.02"
   ]
  },
  {
   "cell_type": "code",
   "execution_count": 38,
   "metadata": {},
   "outputs": [
    {
     "name": "stdout",
     "output_type": "stream",
     "text": [
      "2.7892197311380115e+81\n",
      "2.5085204922917465e+80\n",
      "2.2560701996846115e+79\n",
      "2.0290259619376924e+78\n",
      "1.824830990316373e+77\n",
      "1.6411858062431378e+76\n",
      "1.4760223464316269e+75\n",
      "1.3274806740351197e+74\n",
      "1.193888033549153e+73\n",
      "1.0737400136016813e+72\n",
      "9.656836055015762e+70\n",
      "8.68501966764563e+69\n",
      "7.81100718036099e+68\n",
      "7.02495619098415e+67\n",
      "6.318014851791353e+66\n",
      "5.682222187463245e+65\n",
      "5.110418445364524e+64\n",
      "4.596164468594583e+63\n",
      "4.13366918385905e+62\n",
      "3.7177243875950673e+61\n",
      "3.343646095970754e+60\n",
      "3.0072217982978785e+59\n",
      "2.7046630198764103e+58\n",
      "2.4325626600820723e+57\n",
      "2.187856625284809e+56\n",
      "1.967789324564772e+55\n",
      "1.7698826398115142e+54\n",
      "1.5919080220467841e+53\n",
      "1.4318614118568194e+52\n",
      "1.287940817716167e+51\n",
      "1.1585274157069125e+50\n",
      "1.0421806765910526e+49\n",
      "9.377504174158884e+47\n",
      "8.455958765487633e+46\n",
      "7.794231549255438e+45\n",
      "8.80097328171962e+44\n",
      "2.5088925757573805e+44\n",
      "1.874807036513197e+44\n",
      "1.7525726277035667e+44\n",
      "1.6789822626743436e+44\n",
      "1.6122441209335973e+44\n",
      "1.5484983928397421e+44\n",
      "1.4873036727991143e+44\n",
      "1.4285300484264157e+44\n",
      "1.3720792237518582e+44\n",
      "1.3178591730303902e+44\n",
      "1.2657817221127121e+44\n",
      "1.2157622005932325e+44\n",
      "1.1677192857115651e+44\n",
      "1.1215748684727913e+44\n",
      "1.0772539265063019e+44\n",
      "1.0346844020795843e+44\n",
      "9.937970849443226e+43\n",
      "9.545254998130994e+43\n",
      "9.168057982827476e+43\n",
      "8.805766550285418e+43\n",
      "8.457791681004545e+43\n",
      "8.123567631593762e+43\n",
      "7.802551014976038e+43\n",
      "7.494219916940557e+43\n",
      "7.198073047605831e+43\n",
      "6.913628926414176e+43\n",
      "6.640425099332541e+43\n",
      "6.378017386986956e+43\n",
      "6.125979162508252e+43\n",
      "5.883900657914911e+43\n",
      "5.651388297905412e+43\n",
      "5.428064059976875e+43\n",
      "5.213564859829736e+43\n",
      "5.00754196105918e+43\n",
      "4.809660408173636e+43\n",
      "4.619598482018515e+43\n",
      "4.4370471767197835e+43\n",
      "4.2617096972970433e+43\n",
      "4.0933009771292467e+43\n",
      "3.9315472144885997e+43\n",
      "3.7761854273891107e+43\n",
      "3.626963026026055e+43\n",
      "3.483637402111228e+43\n",
      "3.34597553443631e+43\n",
      "3.213753610023071e+43\n",
      "3.086756660244467e+43\n",
      "2.964778211325036e+43\n",
      "2.8476199486523603e+43\n",
      "2.735091394353837e+43\n",
      "2.6270095976145556e+43\n",
      "2.523198837232782e+43\n",
      "2.4234903359294774e+43\n",
      "2.327721985947365e+43\n",
      "2.235738085493407e+43\n",
      "2.1473890855962187e+43\n",
      "2.0625313469668324e+43\n",
      "1.98102690646753e+43\n",
      "1.902743252809055e+43\n",
      "1.827553111111529e+43\n",
      "1.755334235978816e+43\n",
      "1.685969212749899e+43\n",
      "1.619345266604154e+43\n",
      "1.5553540792101484e+43\n",
      "1.4938916126198798e+43\n"
     ]
    }
   ],
   "source": [
    "#train model\n",
    "\n",
    "for i in range (100):\n",
    "    outputs = np.dot(inputs,weights) + biases\n",
    "    deltas = outputs - targets\n",
    "    \n",
    "    loss=np.sum(deltas ** 2) / 2 / observations\n",
    "    \n",
    "    print(loss)\n",
    "    \n",
    "    deltas_scaled=deltas / observations\n",
    "    weights = weights - learning_rate * np.dot(inputs.T,deltas_scaled)\n",
    "    biases = biases - learning_rate * np.sum(deltas_scaled)"
   ]
  },
  {
   "cell_type": "code",
   "execution_count": 39,
   "metadata": {},
   "outputs": [
    {
     "name": "stdout",
     "output_type": "stream",
     "text": [
      "[[3.54082018e+19]\n",
      " [2.38831610e+19]] [-5.36250331e+21]\n"
     ]
    }
   ],
   "source": [
    "print (weights,biases)"
   ]
  },
  {
   "cell_type": "code",
   "execution_count": 40,
   "metadata": {},
   "outputs": [
    {
     "data": {
      "image/png": "[encoded data removed]",
      "text/plain": [
       "<Figure size 432x288 with 1 Axes>"
      ]
     },
     "metadata": {
      "needs_background": "light"
     },
     "output_type": "display_data"
    }
   ],
   "source": [
    "plt.plot(outputs,targets)\n",
    "plt.xlabel('outputs')\n",
    "plt.ylabel('targets')\n",
    "plt.show()"
   ]
  },
  {
   "cell_type": "code",
   "execution_count": null,
   "metadata": {},
   "outputs": [],
   "source": []
  }
 ],
 "metadata": {
  "kernelspec": {
   "display_name": "Python [conda env:py3-TF2.0] *",
   "language": "python",
   "name": "conda-env-py3-TF2.0-py"
  },
  "language_info": {
   "codemirror_mode": {
    "name": "ipython",
    "version": 3
   },
   "file_extension": ".py",
   "mimetype": "text/x-python",
   "name": "python",
   "nbconvert_exporter": "python",
   "pygments_lexer": "ipython3",
   "version": "3.7.3"
  }
 },
 "nbformat": 4,
 "nbformat_minor": 2
}
